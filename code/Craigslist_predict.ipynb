{
 "cells": [
  {
   "cell_type": "code",
   "execution_count": 1,
   "metadata": {},
   "outputs": [],
   "source": [
    "import os\n",
    "import pandas as pd\n",
    "import numpy as np\n",
    "import json\n",
    "import pickle\n",
    "from sklearn.model_selection import train_test_split\n",
    "from sklearn.feature_extraction.text import CountVectorizer\n",
    "from sklearn.feature_extraction.text import TfidfTransformer\n",
    "from sklearn.svm import LinearSVC\n",
    "from sklearn.linear_model import LogisticRegression\n",
    "\n"
   ]
  },
  {
   "cell_type": "code",
   "execution_count": 2,
   "metadata": {},
   "outputs": [
    {
     "data": {
      "text/html": [
       "<div>\n",
       "<style scoped>\n",
       "    .dataframe tbody tr th:only-of-type {\n",
       "        vertical-align: middle;\n",
       "    }\n",
       "\n",
       "    .dataframe tbody tr th {\n",
       "        vertical-align: top;\n",
       "    }\n",
       "\n",
       "    .dataframe thead th {\n",
       "        text-align: right;\n",
       "    }\n",
       "</style>\n",
       "<table border=\"1\" class=\"dataframe\">\n",
       "  <thead>\n",
       "    <tr style=\"text-align: right;\">\n",
       "      <th></th>\n",
       "      <th>city</th>\n",
       "      <th>category</th>\n",
       "      <th>section</th>\n",
       "      <th>heading</th>\n",
       "    </tr>\n",
       "  </thead>\n",
       "  <tbody>\n",
       "    <tr>\n",
       "      <th>0</th>\n",
       "      <td>NaN</td>\n",
       "      <td>NaN</td>\n",
       "      <td>NaN</td>\n",
       "      <td>NaN</td>\n",
       "    </tr>\n",
       "    <tr>\n",
       "      <th>1</th>\n",
       "      <td>newyork</td>\n",
       "      <td>cell-phones</td>\n",
       "      <td>for-sale</td>\n",
       "      <td>New batteries C-S2 for Blackberry 7100/7130/87...</td>\n",
       "    </tr>\n",
       "    <tr>\n",
       "      <th>2</th>\n",
       "      <td>newyork</td>\n",
       "      <td>cell-phones</td>\n",
       "      <td>for-sale</td>\n",
       "      <td>*******   Brand New Original SAMSUNG GALAXY NO...</td>\n",
       "    </tr>\n",
       "    <tr>\n",
       "      <th>3</th>\n",
       "      <td>newyork</td>\n",
       "      <td>cell-phones</td>\n",
       "      <td>for-sale</td>\n",
       "      <td>SAMSUNG GALAXY SIII T-999 MARBLE WHITE T-MOBIL...</td>\n",
       "    </tr>\n",
       "    <tr>\n",
       "      <th>4</th>\n",
       "      <td>newyork</td>\n",
       "      <td>cell-phones</td>\n",
       "      <td>for-sale</td>\n",
       "      <td>Ipad mini 64gb 4g any sim unlock</td>\n",
       "    </tr>\n",
       "  </tbody>\n",
       "</table>\n",
       "</div>"
      ],
      "text/plain": [
       "      city     category   section  \\\n",
       "0      NaN          NaN       NaN   \n",
       "1  newyork  cell-phones  for-sale   \n",
       "2  newyork  cell-phones  for-sale   \n",
       "3  newyork  cell-phones  for-sale   \n",
       "4  newyork  cell-phones  for-sale   \n",
       "\n",
       "                                             heading  \n",
       "0                                                NaN  \n",
       "1  New batteries C-S2 for Blackberry 7100/7130/87...  \n",
       "2  *******   Brand New Original SAMSUNG GALAXY NO...  \n",
       "3  SAMSUNG GALAXY SIII T-999 MARBLE WHITE T-MOBIL...  \n",
       "4                  Ipad mini 64gb 4g any sim unlock   "
      ]
     },
     "execution_count": 2,
     "metadata": {},
     "output_type": "execute_result"
    }
   ],
   "source": [
    "# Read the JSON data from the file\n",
    "with open('../data/training.json', 'r') as file:\n",
    "    data_list = [json.loads(line) for line in file]\n",
    "df = pd.json_normalize(data_list)\n",
    "df.head()"
   ]
  },
  {
   "cell_type": "code",
   "execution_count": 3,
   "metadata": {},
   "outputs": [],
   "source": [
    "# Drop NaN Value\n",
    "df = df.dropna()"
   ]
  },
  {
   "cell_type": "code",
   "execution_count": 4,
   "metadata": {},
   "outputs": [
    {
     "name": "stdout",
     "output_type": "stream",
     "text": [
      "Akurasi Model\n",
      "0.82\n"
     ]
    }
   ],
   "source": [
    "# Train the classification model\n",
    "def train_model(file_path):\n",
    "    with open(file_path, 'r') as file:\n",
    "        data_list = [json.loads(line) for line in file]\n",
    "    df = pd.json_normalize(data_list)\n",
    "    \n",
    "    \n",
    "    X = df.heading\n",
    "    y = df['category']\n",
    "\n",
    "    X_train, X_test, y_train, y_test = train_test_split(X,y, random_state = 42, test_size = 0.2)\n",
    "    X_train.shape, X_test.shape, y_train.shape, y_test.shape\n",
    "\n",
    "    count_vect = CountVectorizer()\n",
    "    X_train_counts = count_vect.fit_transform(X_train)\n",
    "    tfidf_transformer = TfidfTransformer()\n",
    "    X_train_tfidf = tfidf_transformer.fit_transform(X_train_counts)\n",
    "    \n",
    "\n",
    "    # Save Model\n",
    "    model_folder = '../model'\n",
    "    os.makedirs(model_folder, exist_ok=True)  # Create the 'model' folder if it doesn't exist\n",
    "\n",
    "    # Vectorizer model\n",
    "    vec_file = os.path.join(model_folder, 'vectorizer.pickle')\n",
    "    pickle.dump(count_vect, open(vec_file, 'wb'))\n",
    "    \n",
    "\n",
    "    # Logistic Regression Model\n",
    "    model = LogisticRegression().fit(X_train_tfidf, y_train)\n",
    "    mod_file = os.path.join(model_folder, 'predict.model')\n",
    "    pickle.dump(model, open(mod_file, 'wb'))\n",
    "    \n",
    "    #Akurasi Model\n",
    "    print('Akurasi Model')\n",
    "    print(round(model.score((X_train_tfidf), y_train),3))\n",
    "    \n",
    "train_model('../data/training.json')"
   ]
  },
  {
   "cell_type": "code",
   "execution_count": 5,
   "metadata": {},
   "outputs": [],
   "source": [
    "# Test Model\n",
    "def classify_utterance(df):\n",
    "    loaded_vectorizer = pickle.load(open('../model/vectorizer.pickle', 'rb'))\n",
    "    loaded_model = pickle.load(open('../model/predict.model', 'rb'))\n",
    "    print(loaded_model.predict(loaded_vectorizer.transform([df])))\n",
    "\n",
    "\n",
    "# Load data from JSON file into a DataFrame\n",
    "def load_data_from_json(file_path):\n",
    "    with open(file_path, 'r') as file:\n",
    "        data_list = [json.loads(line) for line in file]\n",
    "    df = pd.json_normalize(data_list)\n",
    "    df = df.dropna()\n",
    "    df = df.head(10)\n",
    "    return df"
   ]
  },
  {
   "cell_type": "code",
   "execution_count": 6,
   "metadata": {},
   "outputs": [
    {
     "name": "stdout",
     "output_type": "stream",
     "text": [
      "['video-games']\n",
      "['wanted-housing']\n",
      "['video-games']\n",
      "['shared']\n",
      "['therapeutic']\n",
      "['shared']\n",
      "['appliances']\n",
      "['therapeutic']\n",
      "['therapeutic']\n",
      "['artists']\n"
     ]
    }
   ],
   "source": [
    "# Call the the Function of Test Model\n",
    "json_file_path = '../data/test-model.json'\n",
    "df = load_data_from_json(json_file_path)\n",
    "result = df['heading'].apply(classify_utterance)"
   ]
  }
 ],
 "metadata": {
  "kernelspec": {
   "display_name": "Python 3",
   "language": "python",
   "name": "python3"
  },
  "language_info": {
   "codemirror_mode": {
    "name": "ipython",
    "version": 3
   },
   "file_extension": ".py",
   "mimetype": "text/x-python",
   "name": "python",
   "nbconvert_exporter": "python",
   "pygments_lexer": "ipython3",
   "version": "3.11.8"
  }
 },
 "nbformat": 4,
 "nbformat_minor": 2
}
